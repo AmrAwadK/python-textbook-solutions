{
 "cells": [
  {
   "cell_type": "markdown",
   "metadata": {},
   "source": [
    "# Chapter 4"
   ]
  },
  {
   "cell_type": "markdown",
   "metadata": {},
   "source": [
    "## Question 26"
   ]
  },
  {
   "cell_type": "markdown",
   "metadata": {},
   "source": [
    "Create a function to count non-overlapping occurences of a substring in a sting without using count()"
   ]
  },
  {
   "cell_type": "code",
   "execution_count": 1,
   "metadata": {},
   "outputs": [
    {
     "name": "stdout",
     "output_type": "stream",
     "text": [
      "Count: 1, String: HelloManMYMyMy\n",
      "Count: 2, String: HelloManMYMy\n",
      "Count: 3, String: HelloManMY\n",
      "Total count is 3\n"
     ]
    }
   ],
   "source": [
    "def count_substring(string, substring):\n",
    "    ''' Initialize The counter. '''\n",
    "    count = 0\n",
    "    \n",
    "    while string.find(substring) != -1:\n",
    "        '''\n",
    "        If the substring is found inside the string:\n",
    "            - Remove the substring from the string.\n",
    "            - Increment the count\n",
    "        '''\n",
    "        string = string.replace(substring, \"\", 1)\n",
    "        count += 1\n",
    "        \n",
    "        ''' Printing the steps. '''\n",
    "        print(\"Count: {}, String: {}\".format(count, string))\n",
    "        \n",
    "    return count\n",
    "\n",
    "def main():\n",
    "    result = count_substring(\"HelloMyManMYMyMy\", \"My\")\n",
    "    print(\"Total count is {}\".format(result))\n",
    "    \n",
    "main()"
   ]
  },
  {
   "cell_type": "markdown",
   "metadata": {},
   "source": [
    "## Question 28"
   ]
  },
  {
   "cell_type": "markdown",
   "metadata": {},
   "source": [
    "The program will have 2 functions:\n",
    "* getN(): To get a positive integer number from the user\n",
    "* fact(): Calculate the factorial"
   ]
  },
  {
   "cell_type": "code",
   "execution_count": 17,
   "metadata": {},
   "outputs": [
    {
     "name": "stdout",
     "output_type": "stream",
     "text": [
      "Please Enter a positive integer: 12\n",
      "12! is 479001600\n"
     ]
    }
   ],
   "source": [
    "def getN():\n",
    "    ''' Initialize Valid to false '''\n",
    "    valid = False\n",
    "    \n",
    "    ''' Loop until the user gives a valid positive integer '''\n",
    "    while not valid:\n",
    "        user_input = input(\"Please Enter a positive integer: \")\n",
    "        try:\n",
    "            ''' Try to convert user input to integer '''\n",
    "            input_int = int(user_input)\n",
    "        except:\n",
    "            ''' If conversion to int failed, show error message and ask the user for input again '''\n",
    "            print(\"The input {} is not an integer!\".format(user_input))\n",
    "            continue\n",
    "        if input_int <= 0:\n",
    "            ''' If input is not positive, show error message and ask the user for input again '''\n",
    "            print(\"The integer {} is not positive!\".format(input_int))\n",
    "            continue\n",
    "        ''' If all checks pass, exit the loop and return the number '''\n",
    "        valid = True\n",
    "    return input_int\n",
    "\n",
    "def fact(int_number):\n",
    "    total = 1\n",
    "    ''' \n",
    "    Create a list of values from 1 to int_number with range, then multiply them together.\n",
    "    - We used the slicing [1:] to ignore the first element, since the first element produced by range() is 0.\n",
    "    - There are ways to do this faster, but this is the simplest :D\n",
    "    '''\n",
    "    for value in range(int_number+1)[1:]:\n",
    "        total *= value\n",
    "    return total\n",
    "\n",
    "def main():\n",
    "    user_input = getN()\n",
    "    factorial = fact(user_input)\n",
    "    print(\"{0}! is {1}\".format(user_input, factorial))\n",
    "    \n",
    "main()"
   ]
  },
  {
   "cell_type": "markdown",
   "metadata": {},
   "source": [
    "## Question 30"
   ]
  },
  {
   "cell_type": "markdown",
   "metadata": {},
   "source": [
    "Pay Raise Calculations according to current salary"
   ]
  },
  {
   "cell_type": "code",
   "execution_count": 20,
   "metadata": {},
   "outputs": [
    {
     "name": "stdout",
     "output_type": "stream",
     "text": [
      "Enter first name: Amr\n",
      "Enter last name: Awad\n",
      "Enter current salary: 50000\n",
      "New salary for Amr Awad is $53000.0\n"
     ]
    }
   ],
   "source": [
    "def get_inputs():\n",
    "    first_name = input(\"Enter first name: \")\n",
    "    last_name = input(\"Enter last name: \")\n",
    "    current_salary = input(\"Enter current salary: \")\n",
    "    ''' This return statement is creating a \"tuple\" from the variables, which we can unpack to access them '''\n",
    "    return first_name, last_name, current_salary\n",
    "\n",
    "def calculate_new_salary(current_salary):\n",
    "    ''' \n",
    "    According to the requirement, there's no error handling here,\n",
    "    If the input is not an integer, the next line will fail.\n",
    "    '''\n",
    "    current_salary_int = int(current_salary)\n",
    "    if current_salary_int < 40000:\n",
    "        ''' Add 5% raise '''\n",
    "        new_salary = 1.05 * current_salary_int\n",
    "    else: \n",
    "        ''' Add 2000$ raise + 2% of the amount '''\n",
    "        new_salary = 1.02 * current_salary_int + 2000\n",
    "    return new_salary\n",
    "\n",
    "def show_output(inputs):\n",
    "    print(\"New salary for {} {} is ${}\".format(inputs[0], inputs[1], inputs[2]))\n",
    "    \n",
    "def main():\n",
    "    ''' This is the tuple unpacking'''\n",
    "    first_name, last_name, current_salary = get_inputs()\n",
    "    ''' Third value represents the current '''\n",
    "    new_salary = calculate_new_salary(current_salary)\n",
    "    ''' This is how to create a tuple explicitly '''\n",
    "    sample_tuple = (first_name, last_name, new_salary)\n",
    "    show_output(sample_tuple)\n",
    "    \n",
    "main()\n",
    "    "
   ]
  },
  {
   "cell_type": "markdown",
   "metadata": {},
   "source": [
    "## Question 32"
   ]
  },
  {
   "cell_type": "markdown",
   "metadata": {},
   "source": [
    "Read months from Months.txt then print months that don't have the letter 'r' using 3 functions."
   ]
  },
  {
   "cell_type": "code",
   "execution_count": 46,
   "metadata": {},
   "outputs": [
    {
     "name": "stdout",
     "output_type": "stream",
     "text": [
      "The R months are\n",
      "January, February, March, April, September, October, November, December\n"
     ]
    }
   ],
   "source": [
    "''' Global Variable '''\n",
    "months = []\n",
    "\n",
    "def read_months():\n",
    "    file_name = \"Months.txt\"\n",
    "    '''\n",
    "    - The open() function returns a file handler (fh) that we can use for file operations.\n",
    "    - The 'with' is a context manager that will handle closing the file handler after the \n",
    "    indented code block is executed, this is prefered to doing \"fh.close()\" because it can\n",
    "    be forgetten and this way the code looks cleaner.\n",
    "    '''\n",
    "    with open(file_name, 'r') as fh:\n",
    "        file_lines = fh.readlines()\n",
    "        \n",
    "    ''' \n",
    "    The file_lines containes the months but they end in a newline char \"\\n\", we'll use list\n",
    "    comprehension and strip() to fix that. This is equivelant to:\n",
    "    \n",
    "    months = []\n",
    "    for month in file_lines:\n",
    "        months.append(month.strip())\n",
    "        \n",
    "    We can of course use list comperhension to make more comles loops with one liners, \n",
    "    but remeber to always keep readability in mind.\n",
    "    '''\n",
    "    months.extend([month.strip() for month in file_lines])\n",
    "    \n",
    "def filter_months():\n",
    "    ''' \n",
    "    For each month, if it doesn't contain an 'r', remove it from the new list\n",
    "    we note 2 things here:\n",
    "    - It's never a good practice to change the variable you're iterating on, i.e months,\n",
    "        hence the use of a new variable.\n",
    "    - We used the global keyword to notify our function that the value is global, \n",
    "        without it you'd get an error when trying to loop over an undefined variable.\n",
    "    '''\n",
    "    global months\n",
    "    new_months = []\n",
    "    for month in months:\n",
    "        if 'r' in month:\n",
    "            new_months.append(month)\n",
    "    months = new_months\n",
    "\n",
    "def output_months():\n",
    "    print(\"The R months are\")\n",
    "    ''' Note the use of the join() to generate a string from a list of elements '''\n",
    "    print(', '.join(months))\n",
    "    \n",
    "def main():\n",
    "    read_months()\n",
    "    filter_months()\n",
    "    output_months()\n",
    "\n",
    "main()"
   ]
  },
  {
   "cell_type": "markdown",
   "metadata": {},
   "source": [
    "## Question 34\n",
    "\n",
    "Pensions calculations"
   ]
  },
  {
   "cell_type": "code",
   "execution_count": 54,
   "metadata": {},
   "outputs": [
    {
     "name": "stdout",
     "output_type": "stream",
     "text": [
      "Enter Your Age: 12\n",
      "Enter number of months of service: 321\n",
      "Enter first of three highest salaries: 12\n",
      "Enter second of three highest salaries: 13\n",
      "Enter third of three highest salaries: 14\n",
      "annual pension: 4.777500000000001\n"
     ]
    }
   ],
   "source": [
    "def get_inputs():\n",
    "    ''' \n",
    "    Let's introuduce python dictionaries :D\n",
    "    They are simple key-value pairs that are created with curly brackets '{}', but note that the keys are not\n",
    "    ordered like lists, so each time you print a dict, you'll get different order :D If you'd like to maintain the\n",
    "    order, you can use the OrderedDict() class from python collections :D\n",
    "    '''\n",
    "    info = {\n",
    "        # Note that salary values are converted to integers on input\n",
    "        'age': int(input(\"Enter Your Age: \")),\n",
    "        # Note that keys can contain spaces, though keys shouldn't be too long, I'm just demonstrating :D\n",
    "        'months of service': int(input(\"Enter number of months of service: \")),\n",
    "        'first high salary': int(input(\"Enter first of three highest salaries: \")),\n",
    "        'second high salary': int(input(\"Enter second of three highest salaries: \")),\n",
    "        'third high salary': int(input(\"Enter third of three highest salaries: \")),\n",
    "    }\n",
    "    return info\n",
    "    \n",
    "\n",
    "def calculate_ave(info):\n",
    "    ''' This is how to access values from a dict'''\n",
    "    ave = (info['first high salary'] + info['second high salary'] + info['third high salary']) / 3\n",
    "    return ave\n",
    "\n",
    "def calculate_p(info):\n",
    "    yrs = info['months of service'] / 12\n",
    "    perRate = 0.00\n",
    "    ''' Add 1.5% for first 5 years '''\n",
    "    if yrs - 5 > 0:\n",
    "        perRate += 0.015\n",
    "        yrs -= 5\n",
    "    ''' Add 1.75% for next 5 years '''\n",
    "    if yrs - 5 > 0:\n",
    "        perRate += 0.0175\n",
    "        yrs -= 5\n",
    "    ''' Add 2% for each additional year '''\n",
    "    perRate += yrs * 0.02\n",
    "    \n",
    "    p = min(perRate, 0.80)\n",
    "    return p\n",
    "\n",
    "def main():\n",
    "    info = get_inputs()\n",
    "    ave = calculate_ave(info)\n",
    "    p = calculate_p(info)\n",
    "    pension = ave * p\n",
    "    print(\"annual pension: {}\".format(pension))\n",
    "    \n",
    "main()"
   ]
  }
 ],
 "metadata": {
  "kernelspec": {
   "display_name": "Python 3",
   "language": "python",
   "name": "python3"
  },
  "language_info": {
   "codemirror_mode": {
    "name": "ipython",
    "version": 3
   },
   "file_extension": ".py",
   "mimetype": "text/x-python",
   "name": "python",
   "nbconvert_exporter": "python",
   "pygments_lexer": "ipython3",
   "version": "3.4.3"
  }
 },
 "nbformat": 4,
 "nbformat_minor": 2
}
