{
 "cells": [
  {
   "cell_type": "markdown",
   "metadata": {},
   "source": [
    "# Chapter 4"
   ]
  },
  {
   "cell_type": "markdown",
   "metadata": {},
   "source": [
    "## Question 26"
   ]
  },
  {
   "cell_type": "markdown",
   "metadata": {},
   "source": [
    "Create a function to count non-overlapping occurences of a substring in a sting without using count()"
   ]
  },
  {
   "cell_type": "code",
   "execution_count": 1,
   "metadata": {},
   "outputs": [
    {
     "name": "stdout",
     "output_type": "stream",
     "text": [
      "Count: 1, String: HelloManMYMyMy\n",
      "Count: 2, String: HelloManMYMy\n",
      "Count: 3, String: HelloManMY\n",
      "Total count is 3\n"
     ]
    }
   ],
   "source": [
    "def count_substring(string, substring):\n",
    "    ''' Initialize The counter. '''\n",
    "    count = 0\n",
    "    \n",
    "    while string.find(substring) != -1:\n",
    "        '''\n",
    "        If the substring is found inside the string:\n",
    "            - Remove the substring from the string.\n",
    "            - Increment the count\n",
    "        '''\n",
    "        string = string.replace(substring, \"\", 1)\n",
    "        count += 1\n",
    "        \n",
    "        ''' Printing the steps. '''\n",
    "        print(\"Count: {}, String: {}\".format(count, string))\n",
    "        \n",
    "    return count\n",
    "\n",
    "def main():\n",
    "    result = count_substring(\"HelloMyManMYMyMy\", \"My\")\n",
    "    print(\"Total count is {}\".format(result))\n",
    "    \n",
    "main()"
   ]
  },
  {
   "cell_type": "markdown",
   "metadata": {},
   "source": [
    "## Question 28"
   ]
  },
  {
   "cell_type": "markdown",
   "metadata": {},
   "source": [
    "The program will have 2 functions:\n",
    "* getN(): To get a positive integer number from the user\n",
    "* fact(): Calculate the factorial"
   ]
  },
  {
   "cell_type": "code",
   "execution_count": 17,
   "metadata": {},
   "outputs": [
    {
     "name": "stdout",
     "output_type": "stream",
     "text": [
      "Please Enter a positive integer: 12\n",
      "12! is 479001600\n"
     ]
    }
   ],
   "source": [
    "def getN():\n",
    "    ''' Initialize Valid to false '''\n",
    "    valid = False\n",
    "    \n",
    "    ''' Loop until the user gives a valid positive integer '''\n",
    "    while not valid:\n",
    "        user_input = input(\"Please Enter a positive integer: \")\n",
    "        try:\n",
    "            ''' Try to convert user input to integer '''\n",
    "            input_int = int(user_input)\n",
    "        except:\n",
    "            ''' If conversion to int failed, show error message and ask the user for input again '''\n",
    "            print(\"The input {} is not an integer!\".format(user_input))\n",
    "            continue\n",
    "        if input_int <= 0:\n",
    "            ''' If input is not positive, show error message and ask the user for input again '''\n",
    "            print(\"The integer {} is not positive!\".format(input_int))\n",
    "            continue\n",
    "        ''' If all checks pass, exit the loop and return the number '''\n",
    "        valid = True\n",
    "    return input_int\n",
    "\n",
    "def fact(int_number):\n",
    "    total = 1\n",
    "    ''' \n",
    "    Create a list of values from 1 to int_number with range, then multiply them together.\n",
    "    - We used the slicing [1:] to ignore the first element, since the first element produced by range() is 0.\n",
    "    - There are ways to do this faster, but this is the simplest :D\n",
    "    '''\n",
    "    for value in range(int_number+1)[1:]:\n",
    "        total *= value\n",
    "    return total\n",
    "\n",
    "def main():\n",
    "    user_input = getN()\n",
    "    factorial = fact(user_input)\n",
    "    print(\"{0}! is {1}\".format(user_input, factorial))\n",
    "    \n",
    "main()"
   ]
  },
  {
   "cell_type": "markdown",
   "metadata": {},
   "source": [
    "## Question 30"
   ]
  },
  {
   "cell_type": "markdown",
   "metadata": {},
   "source": [
    "Pay Raise Calculations according to current salary"
   ]
  },
  {
   "cell_type": "code",
   "execution_count": 19,
   "metadata": {},
   "outputs": [
    {
     "name": "stdout",
     "output_type": "stream",
     "text": [
      "Enter first name: Amr\n",
      "Enter last name: Awad\n",
      "Enter current salary: 40000\n",
      "New salary for Amr Awad is $42800.0\n"
     ]
    }
   ],
   "source": [
    "def get_inputs():\n",
    "    first_name = input(\"Enter first name: \")\n",
    "    last_name = input(\"Enter last name: \")\n",
    "    current_salary = input(\"Enter current salary: \")\n",
    "    ''' This return statement is creating a \"tuple\" from the variables, which we can unpack to access them '''\n",
    "    return first_name, last_name, current_salary\n",
    "\n",
    "def calculate_new_salary(current_salary):\n",
    "    ''' \n",
    "    According to the requirement, there's no error handling here,\n",
    "    If the input is not an integer, the next line will fail.\n",
    "    '''\n",
    "    current_salary_int = int(current_salary)\n",
    "    if current_salary_int < 40000:\n",
    "        ''' Add 5% raise '''\n",
    "        new_salary = 1.05 * current_salary_int\n",
    "    else: \n",
    "        ''' Add 2000$ raise + 2% of the amount '''\n",
    "        new_salary = 1.02 * current_salary_int + 2000\n",
    "    return new_salary\n",
    "\n",
    "def show_output(inputs):\n",
    "    print(\"New salary for {} {} is ${}\".format(inputs[0], inputs[1], inputs[2]))\n",
    "    \n",
    "def main():\n",
    "    ''' This is the tuple unpacking'''\n",
    "    first_name, last_name, current_salary = get_inputs()\n",
    "    ''' Third value represents the current '''\n",
    "    new_salary = calculate_new_salary(current_salary)\n",
    "    ''' This is how to create a tuple explicitly '''\n",
    "    sample_tuple = (first_name, last_name, new_salary)\n",
    "    show_output(sample_tuple)\n",
    "    \n",
    "main()\n",
    "    "
   ]
  }
 ],
 "metadata": {
  "kernelspec": {
   "display_name": "Python 3",
   "language": "python",
   "name": "python3"
  },
  "language_info": {
   "codemirror_mode": {
    "name": "ipython",
    "version": 3
   },
   "file_extension": ".py",
   "mimetype": "text/x-python",
   "name": "python",
   "nbconvert_exporter": "python",
   "pygments_lexer": "ipython3",
   "version": "3.4.3"
  }
 },
 "nbformat": 4,
 "nbformat_minor": 2
}
