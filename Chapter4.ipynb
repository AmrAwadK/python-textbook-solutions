{
 "cells": [
  {
   "cell_type": "markdown",
   "metadata": {},
   "source": [
    "# Chapter 4"
   ]
  },
  {
   "cell_type": "markdown",
   "metadata": {},
   "source": [
    "## Question 26"
   ]
  },
  {
   "cell_type": "code",
   "execution_count": 12,
   "metadata": {},
   "outputs": [
    {
     "name": "stdout",
     "output_type": "stream",
     "text": [
      "Count: 1, String: HelloManMYMyMy\n",
      "Count: 2, String: HelloManMYMy\n",
      "Count: 3, String: HelloManMY\n",
      "Total count is 3\n"
     ]
    }
   ],
   "source": [
    "def count_substring(string, substring):\n",
    "    ''' Initialize The counter. '''\n",
    "    count = 0\n",
    "    \n",
    "    while string.find(substring) != -1:\n",
    "        '''\n",
    "        If the substring is found inside the string:\n",
    "            - Remove the substring from the string.\n",
    "            - Increment the count\n",
    "        '''\n",
    "        string = string.replace(substring, \"\", 1)\n",
    "        count += 1\n",
    "        \n",
    "        ''' Printing the steps. '''\n",
    "        print(\"Count: {}, String: {}\".format(count, string))\n",
    "        \n",
    "    return count\n",
    "\n",
    "def main():\n",
    "    result = count_substring(\"HelloMyManMYMyMy\", \"My\")\n",
    "    print(\"Total count is {}\".format(result))\n",
    "    \n",
    "main()"
   ]
  }
 ],
 "metadata": {
  "kernelspec": {
   "display_name": "Python 3",
   "language": "python",
   "name": "python3"
  },
  "language_info": {
   "codemirror_mode": {
    "name": "ipython",
    "version": 3
   },
   "file_extension": ".py",
   "mimetype": "text/x-python",
   "name": "python",
   "nbconvert_exporter": "python",
   "pygments_lexer": "ipython3",
   "version": "3.4.3"
  }
 },
 "nbformat": 4,
 "nbformat_minor": 2
}
